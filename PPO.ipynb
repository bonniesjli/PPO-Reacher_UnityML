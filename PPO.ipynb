{
 "cells": [
  {
   "cell_type": "code",
   "execution_count": 1,
   "metadata": {},
   "outputs": [],
   "source": [
    "import sys\n",
    "import random\n",
    "from collections import namedtuple, deque\n",
    "\n",
    "import numpy as np\n",
    "import matplotlib.pyplot as plt\n",
    "import torch\n",
    "import torch.nn as nn\n",
    "import torch.optim as optim\n",
    "from unityagents import UnityEnvironment\n",
    "from IPython.display import clear_output\n",
    "\n",
    "from model import PPOPolicyNetwork\n",
    "from agent import PPOAgent\n",
    "\n",
    "import tqdm"
   ]
  },
  {
   "cell_type": "code",
   "execution_count": 2,
   "metadata": {},
   "outputs": [
    {
     "name": "stderr",
     "output_type": "stream",
     "text": [
      "INFO:unityagents:\n",
      "'Academy' started successfully!\n",
      "Unity Academy name: Academy\n",
      "        Number of Brains: 1\n",
      "        Number of External Brains : 1\n",
      "        Lesson number : 0\n",
      "        Reset Parameters :\n",
      "\t\tgoal_speed -> 1.0\n",
      "\t\tgoal_size -> 5.0\n",
      "Unity brain name: ReacherBrain\n",
      "        Number of Visual Observations (per agent): 0\n",
      "        Vector Observation space type: continuous\n",
      "        Vector Observation space size (per agent): 33\n",
      "        Number of stacked Vector Observation: 1\n",
      "        Vector Action space type: continuous\n",
      "        Vector Action space size (per agent): 4\n",
      "        Vector Action descriptions: , , , \n"
     ]
    }
   ],
   "source": [
    "env = UnityEnvironment(file_name='Reacher_Windows_x86_64/Reacher.exe')\n",
    "brain_name = env.brain_names[0]\n",
    "brain = env.brains[brain_name]\n",
    "env_info = env.reset(train_mode=True)[brain_name]"
   ]
  },
  {
   "cell_type": "code",
   "execution_count": 3,
   "metadata": {},
   "outputs": [
    {
     "name": "stdout",
     "output_type": "stream",
     "text": [
      "Action Size is : 4\n",
      "Total score (averaged over agents) this episode: 0.0\n"
     ]
    }
   ],
   "source": [
    "num_agents = len(env_info.agents)\n",
    "action_size = brain.vector_action_space_size\n",
    "print (\"Action Size is :\", action_size)\n",
    "states = env_info.vector_observations\n",
    "state_size = states.shape[1]\n",
    "\n",
    "env_info = env.reset(train_mode=False)[brain_name]     # reset the environment    \n",
    "states = env_info.vector_observations                  # get the current state (for each agent)\n",
    "scores = np.zeros(num_agents)                          # initialize the score (for each agent)\n",
    "for i in range(100):\n",
    "    actions = np.random.randn(num_agents, action_size) # select an action (for each agent)\n",
    "    actions = np.clip(actions, -1, 1)                  # all actions between -1 and 1\n",
    "    env_info = env.step(actions)[brain_name]           # send all actions to tne environment\n",
    "    next_states = env_info.vector_observations         # get next state (for each agent)\n",
    "    rewards = env_info.rewards                         # get reward (for each agent)\n",
    "    dones = env_info.local_done                        # see if episode finished\n",
    "    scores += env_info.rewards                         # update the score (for each agent)\n",
    "    states = next_states                               # roll over states to next time step\n",
    "    if np.any(dones):                                  # exit loop if episode finished\n",
    "        break\n",
    "print('Total score (averaged over agents) this episode: {}'.format(np.mean(scores)))\n",
    "# env.close()"
   ]
  },
  {
   "cell_type": "code",
   "execution_count": null,
   "metadata": {},
   "outputs": [],
   "source": [
    "config = {\n",
    "    'environment': {\n",
    "        'state_size':  env_info.vector_observations.shape[1],\n",
    "        'action_size': brain.vector_action_space_size,\n",
    "        'number_of_agents': len(env_info.agents)\n",
    "    },\n",
    "    'pytorch': {\n",
    "        'device': torch.device(\"cpu\")\n",
    "    },\n",
    "    'hyperparameters': {\n",
    "        'discount_rate': 0.99,\n",
    "        'tau': 0.95,\n",
    "        'gradient_clip': 5,\n",
    "        'rollout_length': 2048,\n",
    "        'optimization_epochs': 10,\n",
    "        'ppo_clip': 0.2,\n",
    "        'log_interval': 2048,\n",
    "        'max_steps': 1e5,\n",
    "        'mini_batch_number': 32,\n",
    "        'entropy_coefficent': 0.01,\n",
    "        'episode_count': 250,\n",
    "        'hidden_size': 512,\n",
    "        'adam_learning_rate': 3e-4,\n",
    "        'adam_epsilon': 1e-5\n",
    "    }\n",
    "}"
   ]
  },
  {
   "cell_type": "code",
   "execution_count": 7,
   "metadata": {},
   "outputs": [
    {
     "name": "stderr",
     "output_type": "stream",
     "text": [
      "\r",
      "  0%|                                                                                            | 0/5 [00:00<?, ?it/s]"
     ]
    },
    {
     "name": "stdout",
     "output_type": "stream",
     "text": [
      "Episode: 1 Total score this episode: 0.24199999459087848 Last 1 average: nan\n"
     ]
    },
    {
     "name": "stderr",
     "output_type": "stream",
     "text": [
      "\r",
      " 20%|████████████████▊                                                                   | 1/5 [00:41<02:46, 41.59s/it]"
     ]
    },
    {
     "name": "stdout",
     "output_type": "stream",
     "text": [
      "Episode: 2 Total score this episode: 0.2849999936297536 Last 2 average: 0.24199999459087848\n"
     ]
    },
    {
     "name": "stderr",
     "output_type": "stream",
     "text": [
      "\r",
      " 40%|█████████████████████████████████▌                                                  | 2/5 [01:21<02:02, 41.00s/it]"
     ]
    },
    {
     "name": "stdout",
     "output_type": "stream",
     "text": [
      "Episode: 3 Total score this episode: 0.5389999879524112 Last 3 average: 0.26349999411031605\n"
     ]
    },
    {
     "name": "stderr",
     "output_type": "stream",
     "text": [
      "\r",
      " 60%|██████████████████████████████████████████████████▍                                 | 3/5 [02:01<01:21, 40.73s/it]"
     ]
    },
    {
     "name": "stdout",
     "output_type": "stream",
     "text": [
      "Episode: 4 Total score this episode: 0.6759999848902225 Last 4 average: 0.3553333253910145\n"
     ]
    },
    {
     "name": "stderr",
     "output_type": "stream",
     "text": [
      "\r",
      " 80%|███████████████████████████████████████████████████████████████████▏                | 4/5 [02:41<00:40, 40.54s/it]"
     ]
    },
    {
     "name": "stdout",
     "output_type": "stream",
     "text": [
      "Episode: 5 Total score this episode: 0.9244999793358147 Last 5 average: 0.4354999902658165\n"
     ]
    },
    {
     "name": "stderr",
     "output_type": "stream",
     "text": [
      "100%|████████████████████████████████████████████████████████████████████████████████████| 5/5 [03:20<00:00, 40.22s/it]\n"
     ]
    },
    {
     "name": "stdout",
     "output_type": "stream",
     "text": [
      "[0.24199999459087848, 0.2849999936297536, 0.5389999879524112, 0.6759999848902225, 0.9244999793358147] [nan, 0.24199999459087848, 0.26349999411031605, 0.3553333253910145, 0.4354999902658165]\n"
     ]
    }
   ],
   "source": [
    "num_agents = len(env_info.agents)\n",
    "max_t = 1e5\n",
    "n_episodes = 5\n",
    "LR = 3e-4          # learning rate\n",
    "EPSILON = 1e-5      # Adam epsilon\n",
    "\n",
    "state_size = env_info.vector_observations.shape[1]\n",
    "hidden_size = 512\n",
    "action_size = brain.vector_action_space_size\n",
    "\n",
    "new_policy = PPOPolicyNetwork(state_size, hidden_size, action_size)\n",
    "policy = new_policy\n",
    "\n",
    "def play_around(env, brain_name, policy):\n",
    "    env_info = env.reset(train_mode = True)[brain_name]\n",
    "    states = env_info.vector_observations\n",
    "    scores = np.zeros(num_agents)\n",
    "    while True:\n",
    "        actions, _, _, _ = policy(states)\n",
    "        env_info = env.step(actions.cpu().detach().numpy())[brain_name]\n",
    "        next_states = env_info.vector_observations\n",
    "        rewards = env_info.rewards\n",
    "        dones = env_info.local_done\n",
    "        scores += env_info.rewards\n",
    "        states = next_states\n",
    "        if np.any(dones):\n",
    "            break\n",
    "    return np.mean(scores)\n",
    "        \n",
    "\n",
    "if True:\n",
    "    env.info = env.reset(train_mode = True)[brain_name]\n",
    "    optimizier = optim.Adam(policy.parameters(), LR, eps = EPSILON)\n",
    "    agent = PPOAgent(env, brain_name, policy, optimizier, num_agents)\n",
    "    all_scores = []\n",
    "    averages = []\n",
    "    last_max = 30.0\n",
    "        \n",
    "    for i in tqdm.tqdm(range(n_episodes)):\n",
    "        agent.step(num_agents)\n",
    "        last_mean_reward = play_around(env, brain_name, policy)\n",
    "        last_average = np.mean(np.array(all_scores[-100:])) if len(all_scores) > 100 else np.mean(np.array(all_scores))\n",
    "        all_scores.append(last_mean_reward)\n",
    "        averages.append(last_average)\n",
    "        if i % 5 == 0:\n",
    "            # torch.save(policy.state_dict(), f\"ppo-max-hiddensize-{hidden_size}.pth\")\n",
    "            pass\n",
    "        if last_average > last_max:\n",
    "            torch.save(policy.state_dict(), f\"ppo-max-hiddensize-{hidden_size}.pth\")\n",
    "            last_max = last_average\n",
    "            clear_output(True)\n",
    "        print('Episode: {} Total score this episode: {} Last {} average: {}'.format(i + 1, last_mean_reward, min(i + 1, 100), last_average))\n",
    "\n",
    "print (all_scores, averages)"
   ]
  },
  {
   "cell_type": "code",
   "execution_count": null,
   "metadata": {},
   "outputs": [],
   "source": [
    "torch.save(policy.state_dict(), f\"ppo-max-hiddensize-{config['hyperparameters']['hidden_size']}.pth\")"
   ]
  },
  {
   "cell_type": "code",
   "execution_count": null,
   "metadata": {},
   "outputs": [],
   "source": [
    "env.close()"
   ]
  },
  {
   "cell_type": "code",
   "execution_count": 11,
   "metadata": {},
   "outputs": [
    {
     "name": "stdout",
     "output_type": "stream",
     "text": [
      "[34.549499227758496]\n"
     ]
    }
   ],
   "source": [
    "num_agents = len(env_info.agents)\n",
    "max_t = 1e5\n",
    "n_episodes = 250\n",
    "\n",
    "hidden_size = 512\n",
    "\n",
    "def play_round(env, brain_name, policy):\n",
    "    env_info = env.reset(train_mode = True)[brain_name]\n",
    "    states = env_info.vector_observations\n",
    "    scores = np.zeros(num_agents)\n",
    "    while True:\n",
    "        actions, _, _, _ = policy(states)\n",
    "        env_info = env.step(actions.cpu().detach().numpy())[brain_name]\n",
    "        next_states = env_info.vector_observations\n",
    "        rewards = env_info.rewards\n",
    "        dones = env_info.local_done\n",
    "        scores += env_info.rewards\n",
    "        states = next_states\n",
    "        if np.any(dones):\n",
    "            break\n",
    "    return np.mean(scores)\n",
    "\n",
    "def ppo(env, brain_name, policy, train):\n",
    "    if train:\n",
    "        optimizier = optim.Adam(policy.parameters(), LR, eps = EPSILON)\n",
    "        agent = PPOAgent(env, brain_name, policy, optimizier, num_agents)\n",
    "        all_scores = []\n",
    "        averages = []\n",
    "        last_max = 30.0\n",
    "        \n",
    "        for i in tqdm.tqdm(range(num_episodes)):\n",
    "            agent.step()\n",
    "            last_mean_reward = play_round(env, brain_name, policy)\n",
    "            last_average = np.mean(np.array(all_scores[-100:])) if len(all_scores) > 100 else np.mean(np.array(all_scores))\n",
    "            all_scores.append(last_mean_reward)\n",
    "            averages.append(last_average)\n",
    "            if last_average > last_max:\n",
    "                torch.save(policy.state_dict(), f\"models/ppo-max-hiddensize-{hidden_size}.pth\")\n",
    "                last_max = last_average\n",
    "            clear_output(True)\n",
    "            print('Episode: {} Total score this episode: {} Last {} average: {}'.format(i + 1, last_mean_reward, min(i + 1, 100), last_average))\n",
    "        return all_scores, averages\n",
    "    else:\n",
    "        score = play_round(env, brain_name, policy)\n",
    "        return [score], [score]\n",
    "    \n",
    "\n",
    "\n",
    "policy = PPOPolicyNetwork(state_size, hidden_size, action_size)\n",
    "policy.load_state_dict(torch.load('ppo-max-hiddensize-512.pth'))\n",
    "_, _ = ppo(env, brain_name, policy, train=False)\n",
    "print (_)"
   ]
  },
  {
   "cell_type": "code",
   "execution_count": 12,
   "metadata": {},
   "outputs": [],
   "source": [
    "env.close()"
   ]
  },
  {
   "cell_type": "code",
   "execution_count": null,
   "metadata": {},
   "outputs": [],
   "source": []
  }
 ],
 "metadata": {
  "kernelspec": {
   "display_name": "drlnd",
   "language": "python",
   "name": "drlnd"
  },
  "language_info": {
   "codemirror_mode": {
    "name": "ipython",
    "version": 3
   },
   "file_extension": ".py",
   "mimetype": "text/x-python",
   "name": "python",
   "nbconvert_exporter": "python",
   "pygments_lexer": "ipython3",
   "version": "3.6.6"
  }
 },
 "nbformat": 4,
 "nbformat_minor": 2
}
