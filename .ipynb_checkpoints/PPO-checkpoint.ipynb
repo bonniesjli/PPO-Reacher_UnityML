{
 "cells": [
  {
   "cell_type": "code",
   "execution_count": 4,
   "metadata": {},
   "outputs": [],
   "source": [
    "import sys\n",
    "import random\n",
    "from collections import namedtuple, deque\n",
    "\n",
    "import numpy as np\n",
    "import matplotlib.pyplot as plt\n",
    "import torch\n",
    "import torch.nn as nn\n",
    "import torch.optim as optim\n",
    "from unityagents import UnityEnvironment\n",
    "from IPython.display import clear_output\n",
    "\n",
    "from agent import Agent"
   ]
  },
  {
   "cell_type": "code",
   "execution_count": 5,
   "metadata": {},
   "outputs": [
    {
     "name": "stderr",
     "output_type": "stream",
     "text": [
      "INFO:unityagents:\n",
      "'Academy' started successfully!\n",
      "Unity Academy name: Academy\n",
      "        Number of Brains: 1\n",
      "        Number of External Brains : 1\n",
      "        Lesson number : 0\n",
      "        Reset Parameters :\n",
      "\t\tgoal_speed -> 1.0\n",
      "\t\tgoal_size -> 5.0\n",
      "Unity brain name: ReacherBrain\n",
      "        Number of Visual Observations (per agent): 0\n",
      "        Vector Observation space type: continuous\n",
      "        Vector Observation space size (per agent): 33\n",
      "        Number of stacked Vector Observation: 1\n",
      "        Vector Action space type: continuous\n",
      "        Vector Action space size (per agent): 4\n",
      "        Vector Action descriptions: , , , \n"
     ]
    }
   ],
   "source": [
    "env = UnityEnvironment(file_name='Reacher_Windows_x86_64/Reacher.exe')\n",
    "brain_name = env.brain_names[0]\n",
    "brain = env.brains[brain_name]\n",
    "env_info = env.reset(train_mode=True)[brain_name]"
   ]
  },
  {
   "cell_type": "markdown",
   "metadata": {},
   "source": [
    "## Taking Random Action"
   ]
  },
  {
   "cell_type": "code",
   "execution_count": 3,
   "metadata": {},
   "outputs": [
    {
     "name": "stdout",
     "output_type": "stream",
     "text": [
      "Action Size is : 4\n",
      "Total score (averaged over agents) this episode: 0.04349999902769923\n"
     ]
    }
   ],
   "source": [
    "num_agents = len(env_info.agents)\n",
    "action_size = brain.vector_action_space_size\n",
    "print (\"Action Size is :\", action_size)\n",
    "states = env_info.vector_observations\n",
    "state_size = states.shape[1]\n",
    "\n",
    "env_info = env.reset(train_mode=False)[brain_name]     # reset the environment    \n",
    "states = env_info.vector_observations                  # get the current state (for each agent)\n",
    "scores = np.zeros(num_agents)                          # initialize the score (for each agent)\n",
    "for i in range(100):\n",
    "    actions = np.random.randn(num_agents, action_size) # select an action (for each agent)\n",
    "    actions = np.clip(actions, -1, 1)                  # all actions between -1 and 1\n",
    "    env_info = env.step(actions)[brain_name]           # send all actions to tne environment\n",
    "    next_states = env_info.vector_observations         # get next state (for each agent)\n",
    "    rewards = env_info.rewards                         # get reward (for each agent)\n",
    "    dones = env_info.local_done                        # see if episode finished\n",
    "    scores += env_info.rewards                         # update the score (for each agent)\n",
    "    states = next_states                               # roll over states to next time step\n",
    "    if np.any(dones):                                  # exit loop if episode finished\n",
    "        break\n",
    "print('Total score (averaged over agents) this episode: {}'.format(np.mean(scores)))\n",
    "# env.close()"
   ]
  },
  {
   "cell_type": "markdown",
   "metadata": {},
   "source": [
    "## Training the Agent with PPO"
   ]
  },
  {
   "cell_type": "code",
   "execution_count": 13,
   "metadata": {},
   "outputs": [
    {
     "name": "stdout",
     "output_type": "stream",
     "text": [
      "Episode 1, Total score this episode: 0.13849999690428377, Last 1 average: 0.13849999690428377\n",
      "Episode 2, Total score this episode: 0.12649999717250465, Last 2 average: 0.1324999970383942\n",
      "Episode 3, Total score this episode: 0.18849999578669668, Last 3 average: 0.15116666328782838\n",
      "Episode 4, Total score this episode: 0.20299999546259642, Last 4 average: 0.1641249963315204\n",
      "Episode 5, Total score this episode: 0.23649999471381306, Last 5 average: 0.17859999600797893\n"
     ]
    }
   ],
   "source": [
    "num_agents = len(env_info.agents)\n",
    "max_t = 1e5\n",
    "n_episodes = 300\n",
    "LR = 3e-4          # learning rate\n",
    "EPSILON = 1e-5      # Adam epsilon\n",
    "ROLLOUT_LENGTH = 2048\n",
    "\n",
    "state_size = env_info.vector_observations.shape[1]\n",
    "hidden_size = 512\n",
    "action_size = brain.vector_action_space_size\n",
    "\n",
    "\n",
    "agent = Agent( num_agents, state_size, action_size)\n",
    "\n",
    "\n",
    "def test_agent(env, brain_name):\n",
    "    env_info = env.reset(train_mode = True)[brain_name]\n",
    "    states = env_info.vector_observations\n",
    "    scores = np.zeros(num_agents)\n",
    "    while True:\n",
    "        actions, _, _= agent.act(states)\n",
    "        env_info = env.step(actions.cpu().detach().numpy())[brain_name]\n",
    "        next_states = env_info.vector_observations\n",
    "        rewards = env_info.rewards\n",
    "        dones = env_info.local_done\n",
    "        scores += env_info.rewards\n",
    "        states = next_states\n",
    "        if np.any(dones):\n",
    "            break\n",
    "    return np.mean(scores)\n",
    "        \n",
    "# def dqn( :params: )\n",
    "if True:\n",
    "    env.info = env.reset(train_mode = True)[brain_name]\n",
    "    all_scores = []\n",
    "    all_scores_window = deque(maxlen=100)\n",
    "        \n",
    "    for i_episode in range(n_episodes):\n",
    "        # Each iteration, N parallel actors collect T time steps of data\n",
    "        env_info = env.reset(train_mode=True)[brain_name]\n",
    "        states = env_info.vector_observations  \n",
    "        \n",
    "        rollout = []\n",
    "        agents_rewards = np.zeros(num_agents)\n",
    "        episode_rewards = []\n",
    "\n",
    "        for _ in range(ROLLOUT_LENGTH):\n",
    "            actions, log_probs, values = agent.act(states)\n",
    "            env_info = env.step(actions.cpu().detach().numpy())[brain_name]\n",
    "            next_states = env_info.vector_observations\n",
    "            rewards = env_info.rewards\n",
    "            dones = np.array([1 if t else 0 for t in env_info.local_done])\n",
    "            agents_rewards += rewards\n",
    "            \n",
    "            for j, done in enumerate(dones):\n",
    "                if dones[j]:\n",
    "                    episode_rewards.append(agents_rewards[j])\n",
    "                    agents_rewards[j] = 0\n",
    "                    \n",
    "            rollout.append([states, values.detach(), actions.detach(), log_probs.detach(), rewards, 1 - dones])\n",
    "            \n",
    "            states = next_states\n",
    "\n",
    "        pending_value = agent.model(states)[-1]\n",
    "        returns = pending_value.detach()\n",
    "        rollout.append([states, pending_value, None, None, None, None])\n",
    "        \n",
    "        agent.step(rollout, returns, num_agents)\n",
    "        \n",
    "        test_mean_reward = test_agent(env, brain_name)\n",
    "\n",
    "        all_scores.append(test_mean_reward)\n",
    "        all_scores_window.append(test_mean_reward)\n",
    "\n",
    "        if np.mean(all_scores_window) > 30.0:\n",
    "            torch.save(agent.model.state_dict(), f\"ppo_checkpoint.pth\")\n",
    "            print('\\nEnvironment solved in {:d} episodes!\\tAverage Score: {:.2f}'.format(i_episode, np.mean(all_scores_window)))\n",
    "            break       \n",
    "        \n",
    "        print('Episode {}, Total score this episode: {}, Last {} average: {}'.format(i_episode + 1, test_mean_reward, min(i_episode + 1, 100), np.mean(all_scores_window)) )"
   ]
  },
  {
   "cell_type": "code",
   "execution_count": null,
   "metadata": {},
   "outputs": [],
   "source": [
    "torch.save(agent.model.state_dict(), f\"ppo_checkpoint.pth\")"
   ]
  },
  {
   "cell_type": "markdown",
   "metadata": {},
   "source": [
    "## Run a trained agent"
   ]
  },
  {
   "cell_type": "code",
   "execution_count": 15,
   "metadata": {},
   "outputs": [
    {
     "name": "stdout",
     "output_type": "stream",
     "text": [
      "0.44299999009817836\n"
     ]
    }
   ],
   "source": [
    "agent.model.load_state_dict(torch.load('ppo_checkpoint.pth'))\n",
    "\n",
    "score = test_agent(env, brain_name)\n",
    "print (score)"
   ]
  },
  {
   "cell_type": "code",
   "execution_count": 16,
   "metadata": {},
   "outputs": [],
   "source": [
    "env.close()"
   ]
  },
  {
   "cell_type": "code",
   "execution_count": null,
   "metadata": {},
   "outputs": [],
   "source": []
  }
 ],
 "metadata": {
  "kernelspec": {
   "display_name": "drlnd",
   "language": "python",
   "name": "drlnd"
  },
  "language_info": {
   "codemirror_mode": {
    "name": "ipython",
    "version": 3
   },
   "file_extension": ".py",
   "mimetype": "text/x-python",
   "name": "python",
   "nbconvert_exporter": "python",
   "pygments_lexer": "ipython3",
   "version": "3.6.6"
  }
 },
 "nbformat": 4,
 "nbformat_minor": 2
}
